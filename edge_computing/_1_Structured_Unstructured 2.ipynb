{
  "nbformat": 4,
  "nbformat_minor": 0,
  "metadata": {
    "colab": {
      "provenance": [],
      "gpuType": "T4"
    },
    "kernelspec": {
      "name": "python3",
      "display_name": "Python 3"
    },
    "language_info": {
      "name": "python"
    },
    "accelerator": "GPU"
  },
  "cells": [
    {
      "cell_type": "code",
      "execution_count": 1,
      "metadata": {
        "id": "-0A-D9WyXSnA"
      },
      "outputs": [],
      "source": [
        "import torch\n",
        "import torch.nn as nn\n",
        "import torch.optim as optim\n",
        "from torch.utils.data import DataLoader\n",
        "from torchvision import datasets, transforms\n",
        "from torch.nn.utils import prune\n",
        "import matplotlib.pyplot as plt\n"
      ]
    },
    {
      "cell_type": "code",
      "source": [
        "# Set device\n",
        "device = torch.device(\"cuda\" if torch.cuda.is_available() else \"cpu\")"
      ],
      "metadata": {
        "id": "waojVctzXVZ1"
      },
      "execution_count": 2,
      "outputs": []
    },
    {
      "cell_type": "code",
      "source": [
        "# Load CIFAR-10 dataset\n",
        "transform = transforms.Compose([\n",
        "    transforms.ToTensor(),\n",
        "    transforms.Normalize((0.5, 0.5, 0.5), (0.5, 0.5, 0.5))\n",
        "])\n",
        "\n",
        "train_dataset = datasets.CIFAR10(root=\"./data\", train=True, transform=transform, download=True)\n",
        "test_dataset = datasets.CIFAR10(root=\"./data\", train=False, transform=transform, download=True)\n",
        "\n",
        "train_loader = DataLoader(train_dataset, batch_size=64, shuffle=True)\n",
        "test_loader = DataLoader(test_dataset, batch_size=64, shuffle=False)"
      ],
      "metadata": {
        "colab": {
          "base_uri": "https://localhost:8080/"
        },
        "id": "suOyuJI-YN-L",
        "outputId": "29f20e7e-9d6b-4ea5-e7a5-05621db18eba"
      },
      "execution_count": 8,
      "outputs": [
        {
          "output_type": "stream",
          "name": "stdout",
          "text": [
            "Downloading https://www.cs.toronto.edu/~kriz/cifar-10-python.tar.gz to ./data/cifar-10-python.tar.gz\n"
          ]
        },
        {
          "output_type": "stream",
          "name": "stderr",
          "text": [
            "100%|██████████| 170M/170M [00:03<00:00, 49.2MB/s]\n"
          ]
        },
        {
          "output_type": "stream",
          "name": "stdout",
          "text": [
            "Extracting ./data/cifar-10-python.tar.gz to ./data\n",
            "Files already downloaded and verified\n"
          ]
        }
      ]
    },
    {
      "cell_type": "code",
      "source": [
        "# Define a CNN model\n",
        "class CNNModel(nn.Module):\n",
        "    def __init__(self):\n",
        "        super(CNNModel, self).__init__()\n",
        "        self.conv1 = nn.Conv2d(3, 32, kernel_size=3, padding=1)\n",
        "        self.conv2 = nn.Conv2d(32, 64, kernel_size=3, padding=1)\n",
        "        self.pool = nn.MaxPool2d(kernel_size=2, stride=2)\n",
        "        self.fc1 = nn.Linear(64 * 16 * 16, 256)\n",
        "        self.fc2 = nn.Linear(256, 128)\n",
        "        self.fc3 = nn.Linear(128, 10)\n",
        "\n",
        "    def forward(self, x):\n",
        "        x = torch.relu(self.conv1(x))\n",
        "        x = self.pool(torch.relu(self.conv2(x)))\n",
        "        x = x.view(-1, 64 * 16 * 16)\n",
        "        x = torch.relu(self.fc1(x))\n",
        "        x = torch.relu(self.fc2(x))\n",
        "        x = self.fc3(x)\n",
        "        return x\n"
      ],
      "metadata": {
        "id": "keO7S9xuXbVp"
      },
      "execution_count": 5,
      "outputs": []
    },
    {
      "cell_type": "code",
      "source": [
        "# Define a function to count parameters\n",
        "def count_parameters(model):\n",
        "    return sum(p.numel() for p in model.parameters() if p.requires_grad)"
      ],
      "metadata": {
        "id": "RoHRUzYFbhSo"
      },
      "execution_count": 16,
      "outputs": []
    },
    {
      "cell_type": "code",
      "source": [
        "# Define a function to train the model\n",
        "def train(model, dataloader, criterion, optimizer, epochs=5):\n",
        "    model.train()\n",
        "    loss_history = []\n",
        "    for epoch in range(epochs):\n",
        "        total_loss = 0\n",
        "        for images, labels in dataloader:\n",
        "            images, labels = images.to(device), labels.to(device)\n",
        "\n",
        "            optimizer.zero_grad()\n",
        "            outputs = model(images)\n",
        "            loss = criterion(outputs, labels)\n",
        "            loss.backward()\n",
        "            optimizer.step()\n",
        "\n",
        "            total_loss += loss.item()\n",
        "\n",
        "        avg_loss = total_loss / len(dataloader)\n",
        "        loss_history.append(avg_loss)\n",
        "        print(f\"Epoch {epoch+1}/{epochs}, Loss: {avg_loss:.4f}\")\n",
        "    return loss_history"
      ],
      "metadata": {
        "id": "hXl4iiGqXdZe"
      },
      "execution_count": 6,
      "outputs": []
    },
    {
      "cell_type": "code",
      "source": [
        "# Define a function to evaluate the model\n",
        "def evaluate(model, dataloader):\n",
        "    model.eval()\n",
        "    correct = 0\n",
        "    total = 0\n",
        "    with torch.no_grad():\n",
        "        for images, labels in dataloader:\n",
        "            images, labels = images.to(device), labels.to(device)\n",
        "            outputs = model(images)\n",
        "            _, predicted = torch.max(outputs, 1)\n",
        "            total += labels.size(0)\n",
        "            correct += (predicted == labels).sum().item()\n",
        "\n",
        "    accuracy = 100 * correct / total\n",
        "    print(f\"Accuracy: {accuracy:.2f}%\")\n",
        "    return accuracy\n"
      ],
      "metadata": {
        "id": "OwDAp3tlYJCw"
      },
      "execution_count": 7,
      "outputs": []
    },
    {
      "cell_type": "code",
      "source": [
        "# Initialize model, criterion, and optimizer\n",
        "original_model = CNNModel().to(device)\n",
        "criterion = nn.CrossEntropyLoss()\n",
        "optimizer = optim.Adam(original_model.parameters())\n",
        "\n",
        "print(\"Training Original Model...\")\n",
        "original_loss_history = train(original_model, train_loader, criterion, optimizer)\n",
        "original_accuracy = evaluate(original_model, test_loader)"
      ],
      "metadata": {
        "colab": {
          "base_uri": "https://localhost:8080/"
        },
        "id": "jh6JeruJYLDt",
        "outputId": "625ef74a-7214-477d-a1b9-10c57cda375e"
      },
      "execution_count": 9,
      "outputs": [
        {
          "output_type": "stream",
          "name": "stdout",
          "text": [
            "Training Original Model...\n",
            "Epoch 1/5, Loss: 1.2527\n",
            "Epoch 2/5, Loss: 0.8255\n",
            "Epoch 3/5, Loss: 0.5753\n",
            "Epoch 4/5, Loss: 0.3404\n",
            "Epoch 5/5, Loss: 0.1581\n",
            "Accuracy: 70.84%\n"
          ]
        }
      ]
    },
    {
      "cell_type": "code",
      "source": [
        "# Structured pruning\n",
        "def apply_structured_pruning(model):\n",
        "    for name, module in model.named_modules():\n",
        "        if isinstance(module, nn.Conv2d):\n",
        "            prune.ln_structured(module, name=\"weight\", amount=0.5, n=2, dim=0)\n",
        "\n",
        "structured_model = CNNModel().to(device)\n",
        "structured_model.load_state_dict(original_model.state_dict())\n",
        "apply_structured_pruning(structured_model)\n",
        "\n",
        "print(\"Training Structured Pruned Model...\")\n",
        "optimizer = optim.Adam(structured_model.parameters())\n",
        "structured_loss_history = train(structured_model, train_loader, criterion, optimizer)\n",
        "structured_accuracy = evaluate(structured_model, test_loader)"
      ],
      "metadata": {
        "colab": {
          "base_uri": "https://localhost:8080/"
        },
        "id": "AGy3OB43YQm7",
        "outputId": "cb773e6a-6404-4a48-f97c-a6e944736fa8"
      },
      "execution_count": 10,
      "outputs": [
        {
          "output_type": "stream",
          "name": "stdout",
          "text": [
            "Training Structured Pruned Model...\n",
            "Epoch 1/5, Loss: 0.3685\n",
            "Epoch 2/5, Loss: 0.1111\n",
            "Epoch 3/5, Loss: 0.0711\n",
            "Epoch 4/5, Loss: 0.0693\n",
            "Epoch 5/5, Loss: 0.0570\n",
            "Accuracy: 67.94%\n"
          ]
        }
      ]
    },
    {
      "cell_type": "code",
      "source": [
        "# Unstructured pruning\n",
        "def apply_unstructured_pruning(model):\n",
        "    for name, module in model.named_modules():\n",
        "        if isinstance(module, nn.Conv2d):\n",
        "            prune.random_unstructured(module, name=\"weight\", amount=0.5)\n",
        "\n",
        "unstructured_model = CNNModel().to(device)\n",
        "unstructured_model.load_state_dict(original_model.state_dict())\n",
        "apply_unstructured_pruning(unstructured_model)\n",
        "\n",
        "print(\"Training Unstructured Pruned Model...\")\n",
        "optimizer = optim.Adam(unstructured_model.parameters())\n",
        "unstructured_loss_history = train(unstructured_model, train_loader, criterion, optimizer)\n",
        "unstructured_accuracy = evaluate(unstructured_model, test_loader)\n"
      ],
      "metadata": {
        "colab": {
          "base_uri": "https://localhost:8080/"
        },
        "id": "j8DYO8fZYSVn",
        "outputId": "ed58ef45-caed-4f78-d4a4-c5bc33dcde6d"
      },
      "execution_count": 11,
      "outputs": [
        {
          "output_type": "stream",
          "name": "stdout",
          "text": [
            "Training Unstructured Pruned Model...\n",
            "Epoch 1/5, Loss: 0.2650\n",
            "Epoch 2/5, Loss: 0.0735\n",
            "Epoch 3/5, Loss: 0.0580\n",
            "Epoch 4/5, Loss: 0.0553\n",
            "Epoch 5/5, Loss: 0.0452\n",
            "Accuracy: 69.71%\n"
          ]
        }
      ]
    },
    {
      "cell_type": "code",
      "source": [
        "# Summarize results\n",
        "print(\"\\nResults:\")\n",
        "print(f\"Original Model Accuracy: {original_accuracy:.2f}%\")\n",
        "print(f\"Structured Pruned Model Accuracy: {structured_accuracy:.2f}%\")\n",
        "print(f\"Unstructured Pruned Model Accuracy: {unstructured_accuracy:.2f}%\")"
      ],
      "metadata": {
        "colab": {
          "base_uri": "https://localhost:8080/"
        },
        "id": "RehXkK1OYVJG",
        "outputId": "2e787314-04e4-4733-885d-45a70508cdb1"
      },
      "execution_count": 12,
      "outputs": [
        {
          "output_type": "stream",
          "name": "stdout",
          "text": [
            "\n",
            "Results:\n",
            "Original Model Accuracy: 70.84%\n",
            "Structured Pruned Model Accuracy: 67.94%\n",
            "Unstructured Pruned Model Accuracy: 69.71%\n"
          ]
        }
      ]
    },
    {
      "cell_type": "code",
      "source": [
        "# Visualization\n",
        "plt.figure(figsize=(10, 6))\n",
        "plt.plot(original_loss_history, label=\"Original Model\")\n",
        "plt.plot(structured_loss_history, label=\"Structured Pruned Model\")\n",
        "plt.plot(unstructured_loss_history, label=\"Unstructured Pruned Model\")\n",
        "plt.xlabel(\"Epochs\")\n",
        "plt.ylabel(\"Loss\")\n",
        "plt.title(\"Training Loss Comparison\")\n",
        "plt.legend()\n",
        "plt.show()"
      ],
      "metadata": {
        "colab": {
          "base_uri": "https://localhost:8080/",
          "height": 426
        },
        "id": "LPHL-z0ZYXKG",
        "outputId": "d6f215fb-f7ee-4146-e71f-ccacf5c7c0f0"
      },
      "execution_count": 13,
      "outputs": [
        {
          "output_type": "display_data",
          "data": {
            "text/plain": [
              "<Figure size 1000x600 with 1 Axes>"
            ],
            "image/png": "[encoded data removed]"
          },
          "metadata": {}
        }
      ]
    },
    {
      "cell_type": "code",
      "source": [],
      "metadata": {
        "id": "xxd6Al7Xc1CR"
      },
      "execution_count": null,
      "outputs": []
    }
  ]
}